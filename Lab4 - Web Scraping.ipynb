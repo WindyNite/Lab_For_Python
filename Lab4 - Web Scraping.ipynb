{
 "cells": [
  {
   "cell_type": "code",
   "execution_count": 1,
   "id": "0b6cfa15",
   "metadata": {},
   "outputs": [],
   "source": [
    "#import required libraries\n",
    "import requests\n",
    "import html5lib\n",
    "from bs4 import BeautifulSoup"
   ]
  },
  {
   "cell_type": "code",
   "execution_count": 2,
   "id": "ffb1a8e2",
   "metadata": {},
   "outputs": [],
   "source": [
    "#Download the webpage at the url\n",
    "url = \"https://cf-courses-data.s3.us.cloud-object-storage.appdomain.cloud/IBM-DA0321EN-SkillsNetwork/labs/datasets/Programming_Languages.html\"\n",
    "data = requests.get(url).text"
   ]
  },
  {
   "cell_type": "code",
   "execution_count": 3,
   "id": "62aa692d",
   "metadata": {},
   "outputs": [],
   "source": [
    "# Create soup object to extract data from html form\n",
    "soup= BeautifulSoup(data,'html5lib')"
   ]
  },
  {
   "cell_type": "code",
   "execution_count": 24,
   "id": "f51a221c",
   "metadata": {},
   "outputs": [],
   "source": [
    "# Scrape language name and annual salary \n",
    "table = soup.find('table')\n",
    "content = \"\"\n",
    "for row in table.find_all('tr'):\n",
    "    cols = row.find_all('td')\n",
    "    language_name = cols[1].getText()\n",
    "    annual_salary = cols[3].getText()\n",
    "    content += language_name + \", \" + annual_salary.replace(',','.') + \"\\n\""
   ]
  },
  {
   "cell_type": "code",
   "execution_count": 25,
   "id": "775db581",
   "metadata": {},
   "outputs": [
    {
     "name": "stdout",
     "output_type": "stream",
     "text": [
      "Language, Average Annual Salary\n",
      "Python, $114.383\n",
      "Java, $101.013\n",
      "R, $92.037\n",
      "Javascript, $110.981\n",
      "Swift, $130.801\n",
      "C++, $113.865\n",
      "C#, $88.726\n",
      "PHP, $84.727\n",
      "SQL, $84.793\n",
      "Go, $94.082\n",
      "\n"
     ]
    }
   ],
   "source": [
    "print(content)"
   ]
  },
  {
   "cell_type": "code",
   "execution_count": 26,
   "id": "910ea45f",
   "metadata": {},
   "outputs": [],
   "source": [
    "# Save the scrapped data into a file named popular_languages.csv\n",
    "with open('popular_language.csv','w') as t_file:\n",
    "    t_file.write(content)"
   ]
  },
  {
   "cell_type": "code",
   "execution_count": null,
   "id": "e0de31df",
   "metadata": {},
   "outputs": [],
   "source": []
  }
 ],
 "metadata": {
  "kernelspec": {
   "display_name": "Python 3 (ipykernel)",
   "language": "python",
   "name": "python3"
  },
  "language_info": {
   "codemirror_mode": {
    "name": "ipython",
    "version": 3
   },
   "file_extension": ".py",
   "mimetype": "text/x-python",
   "name": "python",
   "nbconvert_exporter": "python",
   "pygments_lexer": "ipython3",
   "version": "3.11.3"
  }
 },
 "nbformat": 4,
 "nbformat_minor": 5
}
