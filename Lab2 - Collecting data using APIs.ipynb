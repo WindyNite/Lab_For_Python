{
 "cells": [
  {
   "cell_type": "code",
   "execution_count": 243,
   "id": "0dd08028",
   "metadata": {},
   "outputs": [],
   "source": [
    "import requests\n",
    "import pandas as pd\n",
    "import json"
   ]
  },
  {
   "cell_type": "code",
   "execution_count": 2,
   "id": "5ed09e09",
   "metadata": {},
   "outputs": [
    {
     "name": "stderr",
     "output_type": "stream",
     "text": [
      "IOPub data rate exceeded.\n",
      "The notebook server will temporarily stop sending output\n",
      "to the client in order to avoid crashing it.\n",
      "To change this limit, set the config variable\n",
      "`--NotebookApp.iopub_data_rate_limit`.\n",
      "\n",
      "Current values:\n",
      "NotebookApp.iopub_data_rate_limit=1000000.0 (bytes/sec)\n",
      "NotebookApp.rate_limit_window=3.0 (secs)\n",
      "\n"
     ]
    }
   ],
   "source": [
    "# Collecting data by using APIs\n",
    "api_url = \"https://cf-courses-data.s3.us.cloud-object-storage.appdomain.cloud/IBM-DA0321EN-SkillsNetwork/labs/module%201/Accessing%20Data%20Using%20APIs/jobs.json\"\n",
    "response = requests.get(api_url)# call APIs by using get() \n",
    "if response.ok :\n",
    "    data = response.json() # restore data into json format with dictionary data type"
   ]
  },
  {
   "cell_type": "code",
   "execution_count": 22,
   "id": "8396278d",
   "metadata": {},
   "outputs": [
    {
     "data": {
      "text/plain": [
       "list"
      ]
     },
     "execution_count": 22,
     "metadata": {},
     "output_type": "execute_result"
    }
   ],
   "source": [
    "type(data)"
   ]
  },
  {
   "cell_type": "code",
   "execution_count": 26,
   "id": "2cce1d7f",
   "metadata": {},
   "outputs": [],
   "source": [
    "#write Python object into a file as a Json formatted data\n",
    "with open('job_posting.txt','w') as json_file:\n",
    "    json.dump(data, json_file) "
   ]
  },
  {
   "cell_type": "code",
   "execution_count": 244,
   "id": "e9d2873a",
   "metadata": {},
   "outputs": [],
   "source": [
    "# Read Json data from a file and convert it into a dictionary \n",
    "with open('job_posting.txt','r') as json_file1:\n",
    "    job_dataset = json.load(json_file1)\n",
    "\n",
    "#print(job_dataset)"
   ]
  },
  {
   "cell_type": "code",
   "execution_count": 245,
   "id": "5ddd7ea6",
   "metadata": {},
   "outputs": [],
   "source": [
    "# load data into a pandas dataframe for data wrangling\n",
    "dataset1 = pd.DataFrame(job_dataset) # transfer data from json format to dataframe \n",
    "#dataset1"
   ]
  },
  {
   "cell_type": "code",
   "execution_count": 246,
   "id": "957fb9c6",
   "metadata": {},
   "outputs": [],
   "source": [
    "# create a function of getting the number of jobs posting for each location\n",
    "def get_job_number(location):\n",
    "    t_count = dataset1[dataset1['Location'] == location]\n",
    "    t_count= t_count[['Job Title']].rename(columns={'Job Title':'The number of jobs posting'}).reset_index()\n",
    "    return f'The number of jobs posting: {t_count.shape[0]}'\n"
   ]
  },
  {
   "cell_type": "code",
   "execution_count": 247,
   "id": "72f893e8",
   "metadata": {},
   "outputs": [
    {
     "name": "stdout",
     "output_type": "stream",
     "text": [
      "The number of jobs posting: 434\n"
     ]
    }
   ],
   "source": [
    "# Call the funtion for the number of jobs posting for each location\n",
    "t_num = get_job_number(r'Austin')\n",
    "print(t_num)"
   ]
  },
  {
   "cell_type": "code",
   "execution_count": 292,
   "id": "cb0451b0",
   "metadata": {},
   "outputs": [],
   "source": [
    "# Save the number of jobs posting for each location in an Excel file \n",
    "# Using pandas dataframe\n",
    "t_num.to_excel('Jobs_Posting1.xlsx', sheet_name='Location', index = False)\n"
   ]
  },
  {
   "cell_type": "code",
   "execution_count": 249,
   "id": "fc0c2c88",
   "metadata": {},
   "outputs": [],
   "source": [
    "# list of key skills\n",
    "k_list = ['C','C#','C++','Java','JavaScript','Python','Scala','Oracle','SQL Server','MySQL Server','PostgreSQL','MongoDB']\n",
    "#k_list =['Python']"
   ]
  },
  {
   "cell_type": "code",
   "execution_count": 250,
   "id": "1bc2a102",
   "metadata": {},
   "outputs": [],
   "source": [
    "# data wrangling in dataframe\n",
    "char_dict = {'  ':' ',' | ':'|', ' |':'|', '| ':'|'}\n",
    "def replace_char(text,dict1):\n",
    "    for i,j in dict1.items():\n",
    "        text = text.str.replace(i,j)\n",
    "    return text\n",
    "\n",
    "dataset1['Key Skills'] = replace_char(dataset1['Key Skills'], char_dict)\n",
    "dataset1['Key_Skills_Temp'] = dataset1['Key Skills'].str.lower()\n"
   ]
  },
  {
   "cell_type": "code",
   "execution_count": 251,
   "id": "2c30d57b",
   "metadata": {},
   "outputs": [],
   "source": [
    "# Update required languages for searching \n",
    "k_list1 = ['|C|','C#','C++','|Java|','JavaScript','Python','Scala','Oracle','SQL Server','MySQL Server','PostgreSQL','MongoDB']\n",
    "dataset1['Key_Skills_String'] = ''\n",
    "\n",
    "for language in k_list1:\n",
    "    dataset1['temp'] =-1\n",
    "    dataset1['temp'] = dataset1[\"Key_Skills_Temp\"].str.find(language.lower())\n",
    "    dataset1.loc[dataset1['temp']!=-1,'temp'] = language\n",
    "    dataset1.loc[dataset1['temp']!=-1,'Key_Skills_String'] += language.replace('|','') +\",\"\n",
    "\n",
    "dataset1.drop([\"temp\"], axis=1, inplace=True)\n",
    "dataset1.drop([\"Key_Skills_Temp\"], axis=1, inplace=True)"
   ]
  },
  {
   "cell_type": "code",
   "execution_count": 289,
   "id": "986199cb",
   "metadata": {},
   "outputs": [],
   "source": [
    "# functions of searching jobs posting with required languages\n",
    "def set_query(languages):\n",
    "    t_query =''\n",
    "    flg =1\n",
    "    languages_list = list(languages.replace(\" \",\"\").split(','))\n",
    "    for lan in languages_list:\n",
    "        if lan == 'C':\n",
    "            lan = 'C,'\n",
    "        elif lan == 'Java':\n",
    "            lan = ',Java,'\n",
    "        elif lan == 'C++':\n",
    "            lan = 'C\\+\\+'\n",
    "        elif lan == 'C#':\n",
    "            lan = 'C\\#'\n",
    "        \n",
    "        if flg == 1:\n",
    "            t_query += f'Key_Skills_String.str.contains(\"{lan}\", case=False)'\n",
    "        else: \n",
    "            t_query += f' and Key_Skills_String.str.contains(\"{lan}\", case=False)'\n",
    "        flg +=1\n",
    "    return t_query\n",
    "\n",
    "def search_languages_for_Jobs(languages, dataframe):\n",
    "    t_query = set_query(languages)\n",
    "    items= dataframe.query(t_query)   \n",
    "    print('\\033[91m Please enter each language\\033[34m after a comma and no space needed, such as\\033[35m Python,C#,Java \\033[0m')\n",
    "    return f'The number of jobs posting with languages {languages} is {len(items.index)}'"
   ]
  },
  {
   "cell_type": "code",
   "execution_count": 291,
   "id": "3ad88020",
   "metadata": {},
   "outputs": [
    {
     "name": "stdout",
     "output_type": "stream",
     "text": [
      "\u001b[91m Please enter each language\u001b[34m after a comma and no space needed, such as\u001b[35m Python,C#,Java \u001b[0m\n"
     ]
    },
    {
     "data": {
      "text/plain": [
       "'The number of jobs posting with languages c#, python is 22'"
      ]
     },
     "execution_count": 291,
     "metadata": {},
     "output_type": "execute_result"
    }
   ],
   "source": [
    "l_languages= 'c#, python'\n",
    "search_languages_for_Jobs(l_languages, dataset1)"
   ]
  },
  {
   "cell_type": "code",
   "execution_count": null,
   "id": "e4f414f3",
   "metadata": {},
   "outputs": [],
   "source": []
  }
 ],
 "metadata": {
  "kernelspec": {
   "display_name": "Python 3 (ipykernel)",
   "language": "python",
   "name": "python3"
  },
  "language_info": {
   "codemirror_mode": {
    "name": "ipython",
    "version": 3
   },
   "file_extension": ".py",
   "mimetype": "text/x-python",
   "name": "python",
   "nbconvert_exporter": "python",
   "pygments_lexer": "ipython3",
   "version": "3.11.3"
  }
 },
 "nbformat": 4,
 "nbformat_minor": 5
}
